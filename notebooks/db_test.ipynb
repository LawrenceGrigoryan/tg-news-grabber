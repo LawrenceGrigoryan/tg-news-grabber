{
 "cells": [
  {
   "cell_type": "code",
   "execution_count": 18,
   "metadata": {},
   "outputs": [
    {
     "name": "stdout",
     "output_type": "stream",
     "text": [
      "The autoreload extension is already loaded. To reload it, use:\n",
      "  %reload_ext autoreload\n"
     ]
    }
   ],
   "source": [
    "%load_ext autoreload\n",
    "%autoreload 2"
   ]
  },
  {
   "cell_type": "code",
   "execution_count": 32,
   "metadata": {},
   "outputs": [],
   "source": [
    "import os\n",
    "import sys\n",
    "from datetime import datetime, timedelta\n",
    "from mysql.connector import connect, Error\n",
    "from omegaconf import OmegaConf\n",
    "import sqlalchemy\n",
    "import pandas as pd\n",
    "import boto3\n",
    "from dotenv import load_dotenv\n",
    "\n",
    "sys.path.append('../src')"
   ]
  },
  {
   "cell_type": "code",
   "execution_count": 33,
   "metadata": {},
   "outputs": [],
   "source": [
    "current_date = (datetime.today() + timedelta(hours=3)).date()\n",
    "date_start = current_date - timedelta(days=1)\n",
    "date_start = datetime(\n",
    "    date_start.year,\n",
    "    date_start.month, \n",
    "    date_start.day\n",
    ")"
   ]
  },
  {
   "cell_type": "code",
   "execution_count": 36,
   "metadata": {},
   "outputs": [
    {
     "ename": "TypeError",
     "evalue": "can't compare datetime.datetime to datetime.date",
     "output_type": "error",
     "traceback": [
      "\u001b[0;31m---------------------------------------------------------------------------\u001b[0m",
      "\u001b[0;31mTypeError\u001b[0m                                 Traceback (most recent call last)",
      "Cell \u001b[0;32mIn[36], line 1\u001b[0m\n\u001b[0;32m----> 1\u001b[0m date_start \u001b[39m<\u001b[39;49m current_date\n",
      "\u001b[0;31mTypeError\u001b[0m: can't compare datetime.datetime to datetime.date"
     ]
    }
   ],
   "source": [
    "date_start < current_date"
   ]
  },
  {
   "cell_type": "code",
   "execution_count": 35,
   "metadata": {},
   "outputs": [
    {
     "data": {
      "text/plain": [
       "datetime.datetime(2023, 1, 19, 0, 0)"
      ]
     },
     "execution_count": 35,
     "metadata": {},
     "output_type": "execute_result"
    }
   ],
   "source": [
    "date_start"
   ]
  },
  {
   "cell_type": "code",
   "execution_count": 20,
   "metadata": {},
   "outputs": [
    {
     "data": {
      "text/plain": [
       "True"
      ]
     },
     "execution_count": 20,
     "metadata": {},
     "output_type": "execute_result"
    }
   ],
   "source": [
    "load_dotenv()"
   ]
  },
  {
   "cell_type": "code",
   "execution_count": 21,
   "metadata": {},
   "outputs": [],
   "source": [
    "conf = OmegaConf.load('../config.yaml')"
   ]
  },
  {
   "cell_type": "code",
   "execution_count": 22,
   "metadata": {},
   "outputs": [],
   "source": [
    "mysql_host = os.getenv(\"MYSQL_HOST\")\n",
    "mysql_user = os.getenv(\"MYSQL_USER\")\n",
    "mysql_password = os.getenv(\"MYSQL_PASSWORD\")\n",
    "s3_access_key_id = os.getenv(\"S3_ACCESS_KEY_ID\")\n",
    "s3_secret_key = os.getenv(\"S3_SECRET_KEY\")"
   ]
  },
  {
   "attachments": {},
   "cell_type": "markdown",
   "metadata": {},
   "source": [
    "id\tchannel_id\tchannel_name\tdate\ttext"
   ]
  },
  {
   "cell_type": "code",
   "execution_count": 10,
   "metadata": {},
   "outputs": [
    {
     "ename": "ConfigAttributeError",
     "evalue": "Missing key host\n    full_key: host\n    object_type=dict",
     "output_type": "error",
     "traceback": [
      "\u001b[0;31m---------------------------------------------------------------------------\u001b[0m",
      "\u001b[0;31mConfigAttributeError\u001b[0m                      Traceback (most recent call last)",
      "Cell \u001b[0;32mIn[10], line 4\u001b[0m\n\u001b[1;32m      1\u001b[0m \u001b[39m# CONNECTION TO MYSQL SERVER\u001b[39;00m\n\u001b[1;32m      2\u001b[0m \u001b[39mtry\u001b[39;00m:\n\u001b[1;32m      3\u001b[0m     \u001b[39mwith\u001b[39;00m connect(\n\u001b[0;32m----> 4\u001b[0m         host\u001b[39m=\u001b[39mconf\u001b[39m.\u001b[39;49mhost,\n\u001b[1;32m      5\u001b[0m         user\u001b[39m=\u001b[39mconf\u001b[39m.\u001b[39muser,\n\u001b[1;32m      6\u001b[0m         password\u001b[39m=\u001b[39mconf\u001b[39m.\u001b[39mpassword,\n\u001b[1;32m      7\u001b[0m         port\u001b[39m=\u001b[39m\u001b[39m3306\u001b[39m\n\u001b[1;32m      8\u001b[0m     ) \u001b[39mas\u001b[39;00m connection:\n\u001b[1;32m      9\u001b[0m         \u001b[39mprint\u001b[39m(connection)\n\u001b[1;32m     10\u001b[0m \u001b[39mexcept\u001b[39;00m Error \u001b[39mas\u001b[39;00m e:\n",
      "File \u001b[0;32m~/projects/tg_news_grabber/.venv/lib/python3.10/site-packages/omegaconf/dictconfig.py:355\u001b[0m, in \u001b[0;36mDictConfig.__getattr__\u001b[0;34m(self, key)\u001b[0m\n\u001b[1;32m    351\u001b[0m     \u001b[39mreturn\u001b[39;00m \u001b[39mself\u001b[39m\u001b[39m.\u001b[39m_get_impl(\n\u001b[1;32m    352\u001b[0m         key\u001b[39m=\u001b[39mkey, default_value\u001b[39m=\u001b[39m_DEFAULT_MARKER_, validate_key\u001b[39m=\u001b[39m\u001b[39mFalse\u001b[39;00m\n\u001b[1;32m    353\u001b[0m     )\n\u001b[1;32m    354\u001b[0m \u001b[39mexcept\u001b[39;00m ConfigKeyError \u001b[39mas\u001b[39;00m e:\n\u001b[0;32m--> 355\u001b[0m     \u001b[39mself\u001b[39;49m\u001b[39m.\u001b[39;49m_format_and_raise(\n\u001b[1;32m    356\u001b[0m         key\u001b[39m=\u001b[39;49mkey, value\u001b[39m=\u001b[39;49m\u001b[39mNone\u001b[39;49;00m, cause\u001b[39m=\u001b[39;49me, type_override\u001b[39m=\u001b[39;49mConfigAttributeError\n\u001b[1;32m    357\u001b[0m     )\n\u001b[1;32m    358\u001b[0m \u001b[39mexcept\u001b[39;00m \u001b[39mException\u001b[39;00m \u001b[39mas\u001b[39;00m e:\n\u001b[1;32m    359\u001b[0m     \u001b[39mself\u001b[39m\u001b[39m.\u001b[39m_format_and_raise(key\u001b[39m=\u001b[39mkey, value\u001b[39m=\u001b[39m\u001b[39mNone\u001b[39;00m, cause\u001b[39m=\u001b[39me)\n",
      "File \u001b[0;32m~/projects/tg_news_grabber/.venv/lib/python3.10/site-packages/omegaconf/base.py:231\u001b[0m, in \u001b[0;36mNode._format_and_raise\u001b[0;34m(self, key, value, cause, msg, type_override)\u001b[0m\n\u001b[1;32m    223\u001b[0m \u001b[39mdef\u001b[39;00m \u001b[39m_format_and_raise\u001b[39m(\n\u001b[1;32m    224\u001b[0m     \u001b[39mself\u001b[39m,\n\u001b[1;32m    225\u001b[0m     key: Any,\n\u001b[0;32m   (...)\u001b[0m\n\u001b[1;32m    229\u001b[0m     type_override: Any \u001b[39m=\u001b[39m \u001b[39mNone\u001b[39;00m,\n\u001b[1;32m    230\u001b[0m ) \u001b[39m-\u001b[39m\u001b[39m>\u001b[39m \u001b[39mNone\u001b[39;00m:\n\u001b[0;32m--> 231\u001b[0m     format_and_raise(\n\u001b[1;32m    232\u001b[0m         node\u001b[39m=\u001b[39;49m\u001b[39mself\u001b[39;49m,\n\u001b[1;32m    233\u001b[0m         key\u001b[39m=\u001b[39;49mkey,\n\u001b[1;32m    234\u001b[0m         value\u001b[39m=\u001b[39;49mvalue,\n\u001b[1;32m    235\u001b[0m         msg\u001b[39m=\u001b[39;49m\u001b[39mstr\u001b[39;49m(cause) \u001b[39mif\u001b[39;49;00m msg \u001b[39mis\u001b[39;49;00m \u001b[39mNone\u001b[39;49;00m \u001b[39melse\u001b[39;49;00m msg,\n\u001b[1;32m    236\u001b[0m         cause\u001b[39m=\u001b[39;49mcause,\n\u001b[1;32m    237\u001b[0m         type_override\u001b[39m=\u001b[39;49mtype_override,\n\u001b[1;32m    238\u001b[0m     )\n\u001b[1;32m    239\u001b[0m     \u001b[39massert\u001b[39;00m \u001b[39mFalse\u001b[39;00m\n",
      "File \u001b[0;32m~/projects/tg_news_grabber/.venv/lib/python3.10/site-packages/omegaconf/_utils.py:899\u001b[0m, in \u001b[0;36mformat_and_raise\u001b[0;34m(node, key, value, msg, cause, type_override)\u001b[0m\n\u001b[1;32m    896\u001b[0m     ex\u001b[39m.\u001b[39mref_type \u001b[39m=\u001b[39m ref_type\n\u001b[1;32m    897\u001b[0m     ex\u001b[39m.\u001b[39mref_type_str \u001b[39m=\u001b[39m ref_type_str\n\u001b[0;32m--> 899\u001b[0m _raise(ex, cause)\n",
      "File \u001b[0;32m~/projects/tg_news_grabber/.venv/lib/python3.10/site-packages/omegaconf/_utils.py:797\u001b[0m, in \u001b[0;36m_raise\u001b[0;34m(ex, cause)\u001b[0m\n\u001b[1;32m    795\u001b[0m \u001b[39melse\u001b[39;00m:\n\u001b[1;32m    796\u001b[0m     ex\u001b[39m.\u001b[39m__cause__ \u001b[39m=\u001b[39m \u001b[39mNone\u001b[39;00m\n\u001b[0;32m--> 797\u001b[0m \u001b[39mraise\u001b[39;00m ex\u001b[39m.\u001b[39mwith_traceback(sys\u001b[39m.\u001b[39mexc_info()[\u001b[39m2\u001b[39m])\n",
      "File \u001b[0;32m~/projects/tg_news_grabber/.venv/lib/python3.10/site-packages/omegaconf/dictconfig.py:351\u001b[0m, in \u001b[0;36mDictConfig.__getattr__\u001b[0;34m(self, key)\u001b[0m\n\u001b[1;32m    348\u001b[0m     \u001b[39mraise\u001b[39;00m \u001b[39mAttributeError\u001b[39;00m()\n\u001b[1;32m    350\u001b[0m \u001b[39mtry\u001b[39;00m:\n\u001b[0;32m--> 351\u001b[0m     \u001b[39mreturn\u001b[39;00m \u001b[39mself\u001b[39;49m\u001b[39m.\u001b[39;49m_get_impl(\n\u001b[1;32m    352\u001b[0m         key\u001b[39m=\u001b[39;49mkey, default_value\u001b[39m=\u001b[39;49m_DEFAULT_MARKER_, validate_key\u001b[39m=\u001b[39;49m\u001b[39mFalse\u001b[39;49;00m\n\u001b[1;32m    353\u001b[0m     )\n\u001b[1;32m    354\u001b[0m \u001b[39mexcept\u001b[39;00m ConfigKeyError \u001b[39mas\u001b[39;00m e:\n\u001b[1;32m    355\u001b[0m     \u001b[39mself\u001b[39m\u001b[39m.\u001b[39m_format_and_raise(\n\u001b[1;32m    356\u001b[0m         key\u001b[39m=\u001b[39mkey, value\u001b[39m=\u001b[39m\u001b[39mNone\u001b[39;00m, cause\u001b[39m=\u001b[39me, type_override\u001b[39m=\u001b[39mConfigAttributeError\n\u001b[1;32m    357\u001b[0m     )\n",
      "File \u001b[0;32m~/projects/tg_news_grabber/.venv/lib/python3.10/site-packages/omegaconf/dictconfig.py:442\u001b[0m, in \u001b[0;36mDictConfig._get_impl\u001b[0;34m(self, key, default_value, validate_key)\u001b[0m\n\u001b[1;32m    438\u001b[0m \u001b[39mdef\u001b[39;00m \u001b[39m_get_impl\u001b[39m(\n\u001b[1;32m    439\u001b[0m     \u001b[39mself\u001b[39m, key: DictKeyType, default_value: Any, validate_key: \u001b[39mbool\u001b[39m \u001b[39m=\u001b[39m \u001b[39mTrue\u001b[39;00m\n\u001b[1;32m    440\u001b[0m ) \u001b[39m-\u001b[39m\u001b[39m>\u001b[39m Any:\n\u001b[1;32m    441\u001b[0m     \u001b[39mtry\u001b[39;00m:\n\u001b[0;32m--> 442\u001b[0m         node \u001b[39m=\u001b[39m \u001b[39mself\u001b[39;49m\u001b[39m.\u001b[39;49m_get_child(\n\u001b[1;32m    443\u001b[0m             key\u001b[39m=\u001b[39;49mkey, throw_on_missing_key\u001b[39m=\u001b[39;49m\u001b[39mTrue\u001b[39;49;00m, validate_key\u001b[39m=\u001b[39;49mvalidate_key\n\u001b[1;32m    444\u001b[0m         )\n\u001b[1;32m    445\u001b[0m     \u001b[39mexcept\u001b[39;00m (ConfigAttributeError, ConfigKeyError):\n\u001b[1;32m    446\u001b[0m         \u001b[39mif\u001b[39;00m default_value \u001b[39mis\u001b[39;00m \u001b[39mnot\u001b[39;00m _DEFAULT_MARKER_:\n",
      "File \u001b[0;32m~/projects/tg_news_grabber/.venv/lib/python3.10/site-packages/omegaconf/basecontainer.py:73\u001b[0m, in \u001b[0;36mBaseContainer._get_child\u001b[0;34m(self, key, validate_access, validate_key, throw_on_missing_value, throw_on_missing_key)\u001b[0m\n\u001b[1;32m     64\u001b[0m \u001b[39mdef\u001b[39;00m \u001b[39m_get_child\u001b[39m(\n\u001b[1;32m     65\u001b[0m     \u001b[39mself\u001b[39m,\n\u001b[1;32m     66\u001b[0m     key: Any,\n\u001b[0;32m   (...)\u001b[0m\n\u001b[1;32m     70\u001b[0m     throw_on_missing_key: \u001b[39mbool\u001b[39m \u001b[39m=\u001b[39m \u001b[39mFalse\u001b[39;00m,\n\u001b[1;32m     71\u001b[0m ) \u001b[39m-\u001b[39m\u001b[39m>\u001b[39m Union[Optional[Node], List[Optional[Node]]]:\n\u001b[1;32m     72\u001b[0m \u001b[39m    \u001b[39m\u001b[39m\"\"\"Like _get_node, passing through to the nearest concrete Node.\"\"\"\u001b[39;00m\n\u001b[0;32m---> 73\u001b[0m     child \u001b[39m=\u001b[39m \u001b[39mself\u001b[39;49m\u001b[39m.\u001b[39;49m_get_node(\n\u001b[1;32m     74\u001b[0m         key\u001b[39m=\u001b[39;49mkey,\n\u001b[1;32m     75\u001b[0m         validate_access\u001b[39m=\u001b[39;49mvalidate_access,\n\u001b[1;32m     76\u001b[0m         validate_key\u001b[39m=\u001b[39;49mvalidate_key,\n\u001b[1;32m     77\u001b[0m         throw_on_missing_value\u001b[39m=\u001b[39;49mthrow_on_missing_value,\n\u001b[1;32m     78\u001b[0m         throw_on_missing_key\u001b[39m=\u001b[39;49mthrow_on_missing_key,\n\u001b[1;32m     79\u001b[0m     )\n\u001b[1;32m     80\u001b[0m     \u001b[39mif\u001b[39;00m \u001b[39misinstance\u001b[39m(child, UnionNode) \u001b[39mand\u001b[39;00m \u001b[39mnot\u001b[39;00m _is_special(child):\n\u001b[1;32m     81\u001b[0m         value \u001b[39m=\u001b[39m child\u001b[39m.\u001b[39m_value()\n",
      "File \u001b[0;32m~/projects/tg_news_grabber/.venv/lib/python3.10/site-packages/omegaconf/dictconfig.py:480\u001b[0m, in \u001b[0;36mDictConfig._get_node\u001b[0;34m(self, key, validate_access, validate_key, throw_on_missing_value, throw_on_missing_key)\u001b[0m\n\u001b[1;32m    478\u001b[0m \u001b[39mif\u001b[39;00m value \u001b[39mis\u001b[39;00m \u001b[39mNone\u001b[39;00m:\n\u001b[1;32m    479\u001b[0m     \u001b[39mif\u001b[39;00m throw_on_missing_key:\n\u001b[0;32m--> 480\u001b[0m         \u001b[39mraise\u001b[39;00m ConfigKeyError(\u001b[39mf\u001b[39m\u001b[39m\"\u001b[39m\u001b[39mMissing key \u001b[39m\u001b[39m{\u001b[39;00mkey\u001b[39m!s}\u001b[39;00m\u001b[39m\"\u001b[39m)\n\u001b[1;32m    481\u001b[0m \u001b[39melif\u001b[39;00m throw_on_missing_value \u001b[39mand\u001b[39;00m value\u001b[39m.\u001b[39m_is_missing():\n\u001b[1;32m    482\u001b[0m     \u001b[39mraise\u001b[39;00m MissingMandatoryValue(\u001b[39m\"\u001b[39m\u001b[39mMissing mandatory value: $KEY\u001b[39m\u001b[39m\"\u001b[39m)\n",
      "\u001b[0;31mConfigAttributeError\u001b[0m: Missing key host\n    full_key: host\n    object_type=dict"
     ]
    }
   ],
   "source": [
    "# CONNECTION TO MYSQL SERVER\n",
    "try:\n",
    "    with connect(\n",
    "        host=conf.host,\n",
    "        user=conf.user,\n",
    "        password=conf.password\n",
    "    ) as connection:\n",
    "        print(connection)\n",
    "except Error as e:\n",
    "    print(e)"
   ]
  },
  {
   "cell_type": "code",
   "execution_count": 9,
   "metadata": {},
   "outputs": [],
   "source": [
    "# CREATE DATABASE\n",
    "db_query = \"CREATE DATABASE gpb_news_external\"\n",
    "try:\n",
    "    with connect(\n",
    "        host=conf.host,\n",
    "        user=conf.user,\n",
    "        password=conf.password,\n",
    "    ) as connection:\n",
    "        with connection.cursor() as cursor:\n",
    "            cursor.execute(db_query)\n",
    "except Error as e:\n",
    "    print(e)"
   ]
  },
  {
   "cell_type": "code",
   "execution_count": 13,
   "metadata": {},
   "outputs": [
    {
     "name": "stdout",
     "output_type": "stream",
     "text": [
      "('MySQL-8300',)\n",
      "('gpb_news_external',)\n",
      "('information_schema',)\n"
     ]
    }
   ],
   "source": [
    "# SHOW DATABASES\n",
    "query = \"SHOW DATABASES\"\n",
    "try:\n",
    "    with connect(\n",
    "        host=conf.host,\n",
    "        user=conf.user,\n",
    "        password=conf.password,\n",
    "    ) as connection:\n",
    "        with connection.cursor() as cursor:\n",
    "            cursor.execute(query)\n",
    "            for db in cursor:\n",
    "                print(db)\n",
    "except Error as e:\n",
    "    print(e)"
   ]
  },
  {
   "cell_type": "code",
   "execution_count": 15,
   "metadata": {},
   "outputs": [
    {
     "name": "stdout",
     "output_type": "stream",
     "text": [
      "<mysql.connector.connection_cext.CMySQLConnection object at 0x7fcadcd75fc0>\n"
     ]
    }
   ],
   "source": [
    "# CONNECTION TO EXISTING DATABASE\n",
    "try:\n",
    "    with connect(\n",
    "        host=conf.host,\n",
    "        user=conf.user,\n",
    "        password=conf.password,\n",
    "        database=conf.database\n",
    "    ) as connection:\n",
    "        print(connection)\n",
    "except Error as e:\n",
    "    print(e)"
   ]
  },
  {
   "cell_type": "code",
   "execution_count": null,
   "metadata": {},
   "outputs": [],
   "source": []
  },
  {
   "cell_type": "code",
   "execution_count": 18,
   "metadata": {},
   "outputs": [
    {
     "name": "stdout",
     "output_type": "stream",
     "text": [
      "1050 (42S01): Table 'telegram_news' already exists\n"
     ]
    }
   ],
   "source": [
    "query = \\\n",
    "\"\"\"\n",
    "CREATE TABLE telegram_news(\n",
    "        id BIGINT,\n",
    "        channel_id BIGINT,\n",
    "        channel_name VARCHAR(100),\n",
    "        date VARCHAR(100),\n",
    "        text TEXT\n",
    ")\n",
    "\"\"\"\n",
    "try:\n",
    "    with connect(\n",
    "        host=conf.host,\n",
    "        user=conf.user,\n",
    "        password=conf.password,\n",
    "        database=conf.database\n",
    "    ) as connection:\n",
    "        with connection.cursor() as cursor:\n",
    "            cursor.execute(query)\n",
    "            connection.commit()  # after any changes to table\n",
    "except Error as e:\n",
    "    print(e)"
   ]
  },
  {
   "cell_type": "code",
   "execution_count": 55,
   "metadata": {},
   "outputs": [
    {
     "name": "stdout",
     "output_type": "stream",
     "text": [
      "('id', b'bigint', 'YES', '', None, '')\n",
      "('channel_id', b'bigint', 'YES', '', None, '')\n",
      "('channel_name', b'varchar(100)', 'YES', '', None, '')\n",
      "('date', b'varchar(100)', 'YES', '', None, '')\n",
      "('text', b'text', 'YES', '', None, '')\n"
     ]
    }
   ],
   "source": [
    "show_table_query = \"DESCRIBE telegram_news\"\n",
    "try:\n",
    "    with connect(\n",
    "        host=conf.host,\n",
    "        user=conf.user,\n",
    "        password=conf.password,\n",
    "        database=conf.database\n",
    "    ) as connection:\n",
    "        with connection.cursor() as cursor:\n",
    "            cursor.execute(show_table_query)\n",
    "            result = cursor.fetchall()\n",
    "            for row in result:\n",
    "                print(row)\n",
    "except Error as e:\n",
    "    print(e)"
   ]
  },
  {
   "cell_type": "code",
   "execution_count": 25,
   "metadata": {},
   "outputs": [
    {
     "data": {
      "text/html": [
       "<div>\n",
       "<style scoped>\n",
       "    .dataframe tbody tr th:only-of-type {\n",
       "        vertical-align: middle;\n",
       "    }\n",
       "\n",
       "    .dataframe tbody tr th {\n",
       "        vertical-align: top;\n",
       "    }\n",
       "\n",
       "    .dataframe thead th {\n",
       "        text-align: right;\n",
       "    }\n",
       "</style>\n",
       "<table border=\"1\" class=\"dataframe\">\n",
       "  <thead>\n",
       "    <tr style=\"text-align: right;\">\n",
       "      <th></th>\n",
       "      <th>id</th>\n",
       "      <th>channel_id</th>\n",
       "      <th>channel_name</th>\n",
       "      <th>date</th>\n",
       "      <th>text</th>\n",
       "    </tr>\n",
       "  </thead>\n",
       "  <tbody>\n",
       "    <tr>\n",
       "      <th>0</th>\n",
       "      <td>39132</td>\n",
       "      <td>1003921752</td>\n",
       "      <td>bbcrussian</td>\n",
       "      <td>2022-12-19 10:46:30+00:00</td>\n",
       "      <td>Военный корабль Королевских военно-морских сил...</td>\n",
       "    </tr>\n",
       "    <tr>\n",
       "      <th>1</th>\n",
       "      <td>39131</td>\n",
       "      <td>1003921752</td>\n",
       "      <td>bbcrussian</td>\n",
       "      <td>2022-12-19 10:25:37+00:00</td>\n",
       "      <td></td>\n",
       "    </tr>\n",
       "    <tr>\n",
       "      <th>2</th>\n",
       "      <td>39130</td>\n",
       "      <td>1003921752</td>\n",
       "      <td>bbcrussian</td>\n",
       "      <td>2022-12-19 10:25:37+00:00</td>\n",
       "      <td></td>\n",
       "    </tr>\n",
       "    <tr>\n",
       "      <th>3</th>\n",
       "      <td>39129</td>\n",
       "      <td>1003921752</td>\n",
       "      <td>bbcrussian</td>\n",
       "      <td>2022-12-19 10:25:36+00:00</td>\n",
       "      <td></td>\n",
       "    </tr>\n",
       "    <tr>\n",
       "      <th>4</th>\n",
       "      <td>39128</td>\n",
       "      <td>1003921752</td>\n",
       "      <td>bbcrussian</td>\n",
       "      <td>2022-12-19 10:25:36+00:00</td>\n",
       "      <td></td>\n",
       "    </tr>\n",
       "  </tbody>\n",
       "</table>\n",
       "</div>"
      ],
      "text/plain": [
       "      id  channel_id channel_name                      date  \\\n",
       "0  39132  1003921752   bbcrussian 2022-12-19 10:46:30+00:00   \n",
       "1  39131  1003921752   bbcrussian 2022-12-19 10:25:37+00:00   \n",
       "2  39130  1003921752   bbcrussian 2022-12-19 10:25:37+00:00   \n",
       "3  39129  1003921752   bbcrussian 2022-12-19 10:25:36+00:00   \n",
       "4  39128  1003921752   bbcrussian 2022-12-19 10:25:36+00:00   \n",
       "\n",
       "                                                text  \n",
       "0  Военный корабль Королевских военно-морских сил...  \n",
       "1                                                     \n",
       "2                                                     \n",
       "3                                                     \n",
       "4                                                     "
      ]
     },
     "execution_count": 25,
     "metadata": {},
     "output_type": "execute_result"
    }
   ],
   "source": [
    "df = pd.read_json('../output/bbcrussian.json')\n",
    "df.head()"
   ]
  },
  {
   "cell_type": "code",
   "execution_count": 60,
   "metadata": {},
   "outputs": [],
   "source": [
    "try:\n",
    "    connection = sqlalchemy.create_engine(f'mysql+mysqlconnector://{conf.user}:{conf.password}@{conf.host}/{conf.database}')\n",
    "    df.to_sql(con=connection, name='telegram_news', if_exists='append', index=False)\n",
    "except Error as e:\n",
    "    print(e)"
   ]
  },
  {
   "cell_type": "code",
   "execution_count": 29,
   "metadata": {},
   "outputs": [],
   "source": [
    "query = \"SELECT * FROM telegram_news\"\n",
    "try:\n",
    "    # with connect(\n",
    "    #     host=conf.host,\n",
    "    #     user=conf.user,\n",
    "    #     password=conf.password,\n",
    "    #     database=conf.database\n",
    "    # ) as connection:\n",
    "    connection = sqlalchemy.create_engine(f'mysql+mysqlconnector://{mysql_user}:{mysql_password}@{mysql_host}/{conf.db.database}')\n",
    "    query_df = pd.read_sql(\n",
    "        query, \n",
    "        connection,\n",
    "        # chunksize=1000\n",
    "    )\n",
    "    # for chunk in query_df:\n",
    "        # display(chunk)\n",
    "except Error as e:\n",
    "    print(e)"
   ]
  },
  {
   "cell_type": "code",
   "execution_count": 30,
   "metadata": {},
   "outputs": [
    {
     "data": {
      "text/plain": [
       "meduzalive        103\n",
       "bbcrussian         93\n",
       "rian_ru            87\n",
       "currenttime        62\n",
       "radiosvoboda       50\n",
       "varlamov_news      34\n",
       "bazabazon          28\n",
       "oldlentach         21\n",
       "theinsider         21\n",
       "novaya_pishet      13\n",
       "nytimes             7\n",
       "sharemed            7\n",
       "washingtonpost      5\n",
       "Name: channel_name, dtype: int64"
      ]
     },
     "execution_count": 30,
     "metadata": {},
     "output_type": "execute_result"
    }
   ],
   "source": [
    "query_df.channel_name.value_counts()"
   ]
  },
  {
   "cell_type": "code",
   "execution_count": 31,
   "metadata": {},
   "outputs": [
    {
     "data": {
      "text/html": [
       "<div>\n",
       "<style scoped>\n",
       "    .dataframe tbody tr th:only-of-type {\n",
       "        vertical-align: middle;\n",
       "    }\n",
       "\n",
       "    .dataframe tbody tr th {\n",
       "        vertical-align: top;\n",
       "    }\n",
       "\n",
       "    .dataframe thead th {\n",
       "        text-align: right;\n",
       "    }\n",
       "</style>\n",
       "<table border=\"1\" class=\"dataframe\">\n",
       "  <thead>\n",
       "    <tr style=\"text-align: right;\">\n",
       "      <th></th>\n",
       "      <th>rownum</th>\n",
       "      <th>message_id</th>\n",
       "      <th>channel_id</th>\n",
       "      <th>channel_name</th>\n",
       "      <th>channel_url</th>\n",
       "      <th>date</th>\n",
       "      <th>text</th>\n",
       "    </tr>\n",
       "  </thead>\n",
       "  <tbody>\n",
       "    <tr>\n",
       "      <th>0</th>\n",
       "      <td>1</td>\n",
       "      <td>40544</td>\n",
       "      <td>1003921752</td>\n",
       "      <td>bbcrussian</td>\n",
       "      <td>https://t.me/bbcrussian</td>\n",
       "      <td>2023-01-18 22:59:45</td>\n",
       "      <td>Что пишут западные СМИ о новом пакете помощи У...</td>\n",
       "    </tr>\n",
       "    <tr>\n",
       "      <th>1</th>\n",
       "      <td>2</td>\n",
       "      <td>40543</td>\n",
       "      <td>1003921752</td>\n",
       "      <td>bbcrussian</td>\n",
       "      <td>https://t.me/bbcrussian</td>\n",
       "      <td>2023-01-18 22:44:52</td>\n",
       "      <td>США выделяют 125 млн долларов на ремонт украин...</td>\n",
       "    </tr>\n",
       "    <tr>\n",
       "      <th>2</th>\n",
       "      <td>3</td>\n",
       "      <td>40542</td>\n",
       "      <td>1003921752</td>\n",
       "      <td>bbcrussian</td>\n",
       "      <td>https://t.me/bbcrussian</td>\n",
       "      <td>2023-01-18 22:22:01</td>\n",
       "      <td>Компания Microsoft уволит 10 тыс. своих сотруд...</td>\n",
       "    </tr>\n",
       "    <tr>\n",
       "      <th>3</th>\n",
       "      <td>4</td>\n",
       "      <td>40541</td>\n",
       "      <td>1003921752</td>\n",
       "      <td>bbcrussian</td>\n",
       "      <td>https://t.me/bbcrussian</td>\n",
       "      <td>2023-01-18 22:15:12</td>\n",
       "      <td>Представитель Байдена: США не знают, что могло...</td>\n",
       "    </tr>\n",
       "    <tr>\n",
       "      <th>4</th>\n",
       "      <td>5</td>\n",
       "      <td>40540</td>\n",
       "      <td>1003921752</td>\n",
       "      <td>bbcrussian</td>\n",
       "      <td>https://t.me/bbcrussian</td>\n",
       "      <td>2023-01-18 22:02:01</td>\n",
       "      <td>Суд на Филиппинах оправдал нобелевскую лауреат...</td>\n",
       "    </tr>\n",
       "    <tr>\n",
       "      <th>...</th>\n",
       "      <td>...</td>\n",
       "      <td>...</td>\n",
       "      <td>...</td>\n",
       "      <td>...</td>\n",
       "      <td>...</td>\n",
       "      <td>...</td>\n",
       "      <td>...</td>\n",
       "    </tr>\n",
       "    <tr>\n",
       "      <th>526</th>\n",
       "      <td>948</td>\n",
       "      <td>1956</td>\n",
       "      <td>1184664229</td>\n",
       "      <td>washingtonpost</td>\n",
       "      <td>https://t.me/washingtonpost</td>\n",
       "      <td>2023-01-19 23:23:45</td>\n",
       "      <td>Here is the latest from Ukraine:\\n\\n- U.S. Sec...</td>\n",
       "    </tr>\n",
       "    <tr>\n",
       "      <th>527</th>\n",
       "      <td>949</td>\n",
       "      <td>1955</td>\n",
       "      <td>1184664229</td>\n",
       "      <td>washingtonpost</td>\n",
       "      <td>https://t.me/washingtonpost</td>\n",
       "      <td>2023-01-19 21:35:03</td>\n",
       "      <td>Analysis: Putin says Russia’s economy beat exp...</td>\n",
       "    </tr>\n",
       "    <tr>\n",
       "      <th>528</th>\n",
       "      <td>950</td>\n",
       "      <td>1954</td>\n",
       "      <td>1184664229</td>\n",
       "      <td>washingtonpost</td>\n",
       "      <td>https://t.me/washingtonpost</td>\n",
       "      <td>2023-01-19 17:47:01</td>\n",
       "      <td>U.S. defense chief in Berlin for talks as Germ...</td>\n",
       "    </tr>\n",
       "    <tr>\n",
       "      <th>529</th>\n",
       "      <td>951</td>\n",
       "      <td>1953</td>\n",
       "      <td>1184664229</td>\n",
       "      <td>washingtonpost</td>\n",
       "      <td>https://t.me/washingtonpost</td>\n",
       "      <td>2023-01-19 14:51:01</td>\n",
       "      <td>U.S. readies another massive military package ...</td>\n",
       "    </tr>\n",
       "    <tr>\n",
       "      <th>530</th>\n",
       "      <td>952</td>\n",
       "      <td>1952</td>\n",
       "      <td>1184664229</td>\n",
       "      <td>washingtonpost</td>\n",
       "      <td>https://t.me/washingtonpost</td>\n",
       "      <td>2023-01-19 12:09:05</td>\n",
       "      <td>Here is the latest from Ukraine:\\n\\n- The Secu...</td>\n",
       "    </tr>\n",
       "  </tbody>\n",
       "</table>\n",
       "<p>531 rows × 7 columns</p>\n",
       "</div>"
      ],
      "text/plain": [
       "     rownum  message_id  channel_id    channel_name  \\\n",
       "0         1       40544  1003921752      bbcrussian   \n",
       "1         2       40543  1003921752      bbcrussian   \n",
       "2         3       40542  1003921752      bbcrussian   \n",
       "3         4       40541  1003921752      bbcrussian   \n",
       "4         5       40540  1003921752      bbcrussian   \n",
       "..      ...         ...         ...             ...   \n",
       "526     948        1956  1184664229  washingtonpost   \n",
       "527     949        1955  1184664229  washingtonpost   \n",
       "528     950        1954  1184664229  washingtonpost   \n",
       "529     951        1953  1184664229  washingtonpost   \n",
       "530     952        1952  1184664229  washingtonpost   \n",
       "\n",
       "                     channel_url                 date  \\\n",
       "0        https://t.me/bbcrussian  2023-01-18 22:59:45   \n",
       "1        https://t.me/bbcrussian  2023-01-18 22:44:52   \n",
       "2        https://t.me/bbcrussian  2023-01-18 22:22:01   \n",
       "3        https://t.me/bbcrussian  2023-01-18 22:15:12   \n",
       "4        https://t.me/bbcrussian  2023-01-18 22:02:01   \n",
       "..                           ...                  ...   \n",
       "526  https://t.me/washingtonpost  2023-01-19 23:23:45   \n",
       "527  https://t.me/washingtonpost  2023-01-19 21:35:03   \n",
       "528  https://t.me/washingtonpost  2023-01-19 17:47:01   \n",
       "529  https://t.me/washingtonpost  2023-01-19 14:51:01   \n",
       "530  https://t.me/washingtonpost  2023-01-19 12:09:05   \n",
       "\n",
       "                                                  text  \n",
       "0    Что пишут западные СМИ о новом пакете помощи У...  \n",
       "1    США выделяют 125 млн долларов на ремонт украин...  \n",
       "2    Компания Microsoft уволит 10 тыс. своих сотруд...  \n",
       "3    Представитель Байдена: США не знают, что могло...  \n",
       "4    Суд на Филиппинах оправдал нобелевскую лауреат...  \n",
       "..                                                 ...  \n",
       "526  Here is the latest from Ukraine:\\n\\n- U.S. Sec...  \n",
       "527  Analysis: Putin says Russia’s economy beat exp...  \n",
       "528  U.S. defense chief in Berlin for talks as Germ...  \n",
       "529  U.S. readies another massive military package ...  \n",
       "530  Here is the latest from Ukraine:\\n\\n- The Secu...  \n",
       "\n",
       "[531 rows x 7 columns]"
      ]
     },
     "execution_count": 31,
     "metadata": {},
     "output_type": "execute_result"
    }
   ],
   "source": [
    "query_df"
   ]
  },
  {
   "cell_type": "code",
   "execution_count": null,
   "metadata": {},
   "outputs": [],
   "source": []
  }
 ],
 "metadata": {
  "kernelspec": {
   "display_name": ".venv",
   "language": "python",
   "name": "python3"
  },
  "language_info": {
   "codemirror_mode": {
    "name": "ipython",
    "version": 3
   },
   "file_extension": ".py",
   "mimetype": "text/x-python",
   "name": "python",
   "nbconvert_exporter": "python",
   "pygments_lexer": "ipython3",
   "version": "3.10.6"
  },
  "orig_nbformat": 4,
  "vscode": {
   "interpreter": {
    "hash": "9c6cae6676c2f03d9e507b6baefa1dbed12dc7505898e6d7184cb6c1d5667d41"
   }
  }
 },
 "nbformat": 4,
 "nbformat_minor": 2
}
