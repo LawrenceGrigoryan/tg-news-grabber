{
 "cells": [
  {
   "cell_type": "code",
   "execution_count": 1,
   "metadata": {},
   "outputs": [],
   "source": [
    "from mysql.connector import connect, Error\n",
    "from omegaconf import OmegaConf\n",
    "import sqlalchemy\n",
    "import pandas as pd"
   ]
  },
  {
   "attachments": {},
   "cell_type": "markdown",
   "metadata": {},
   "source": [
    "id\tchannel_id\tchannel_name\tdate\ttext"
   ]
  },
  {
   "cell_type": "code",
   "execution_count": 2,
   "metadata": {},
   "outputs": [],
   "source": [
    "# CONFIG \n",
    "conf = OmegaConf.load('../database.yaml')"
   ]
  },
  {
   "cell_type": "code",
   "execution_count": 6,
   "metadata": {},
   "outputs": [
    {
     "name": "stdout",
     "output_type": "stream",
     "text": [
      "<mysql.connector.connection_cext.CMySQLConnection object at 0x7fcb0d1f3460>\n"
     ]
    }
   ],
   "source": [
    "# CONNECTION TO MYSQL SERVER\n",
    "try:\n",
    "    with connect(\n",
    "        host=conf.host,\n",
    "        user=conf.user,\n",
    "        password=conf.password,\n",
    "    ) as connection:\n",
    "        print(connection)\n",
    "except Error as e:\n",
    "    print(e)"
   ]
  },
  {
   "cell_type": "code",
   "execution_count": 9,
   "metadata": {},
   "outputs": [],
   "source": [
    "# CREATE DATABASE\n",
    "db_query = \"CREATE DATABASE gpb_news_external\"\n",
    "try:\n",
    "    with connect(\n",
    "        host=conf.host,\n",
    "        user=conf.user,\n",
    "        password=conf.password,\n",
    "    ) as connection:\n",
    "        with connection.cursor() as cursor:\n",
    "            cursor.execute(db_query)\n",
    "except Error as e:\n",
    "    print(e)"
   ]
  },
  {
   "cell_type": "code",
   "execution_count": 13,
   "metadata": {},
   "outputs": [
    {
     "name": "stdout",
     "output_type": "stream",
     "text": [
      "('MySQL-8300',)\n",
      "('gpb_news_external',)\n",
      "('information_schema',)\n"
     ]
    }
   ],
   "source": [
    "# SHOW DATABASES\n",
    "query = \"SHOW DATABASES\"\n",
    "try:\n",
    "    with connect(\n",
    "        host=conf.host,\n",
    "        user=conf.user,\n",
    "        password=conf.password,\n",
    "    ) as connection:\n",
    "        with connection.cursor() as cursor:\n",
    "            cursor.execute(query)\n",
    "            for db in cursor:\n",
    "                print(db)\n",
    "except Error as e:\n",
    "    print(e)"
   ]
  },
  {
   "cell_type": "code",
   "execution_count": 15,
   "metadata": {},
   "outputs": [
    {
     "name": "stdout",
     "output_type": "stream",
     "text": [
      "<mysql.connector.connection_cext.CMySQLConnection object at 0x7fcadcd75fc0>\n"
     ]
    }
   ],
   "source": [
    "# CONNECTION TO EXISTING DATABASE\n",
    "try:\n",
    "    with connect(\n",
    "        host=conf.host,\n",
    "        user=conf.user,\n",
    "        password=conf.password,\n",
    "        database=conf.database\n",
    "    ) as connection:\n",
    "        print(connection)\n",
    "except Error as e:\n",
    "    print(e)"
   ]
  },
  {
   "cell_type": "code",
   "execution_count": null,
   "metadata": {},
   "outputs": [],
   "source": []
  },
  {
   "cell_type": "code",
   "execution_count": 18,
   "metadata": {},
   "outputs": [
    {
     "name": "stdout",
     "output_type": "stream",
     "text": [
      "1050 (42S01): Table 'telegram_news' already exists\n"
     ]
    }
   ],
   "source": [
    "query = \\\n",
    "\"\"\"\n",
    "CREATE TABLE telegram_news(\n",
    "        id BIGINT,\n",
    "        channel_id BIGINT,\n",
    "        channel_name VARCHAR(100),\n",
    "        date VARCHAR(100),\n",
    "        text TEXT\n",
    ")\n",
    "\"\"\"\n",
    "try:\n",
    "    with connect(\n",
    "        host=conf.host,\n",
    "        user=conf.user,\n",
    "        password=conf.password,\n",
    "        database=conf.database\n",
    "    ) as connection:\n",
    "        with connection.cursor() as cursor:\n",
    "            cursor.execute(query)\n",
    "            connection.commit()  # after any changes to table\n",
    "except Error as e:\n",
    "    print(e)"
   ]
  },
  {
   "cell_type": "code",
   "execution_count": 55,
   "metadata": {},
   "outputs": [
    {
     "name": "stdout",
     "output_type": "stream",
     "text": [
      "('id', b'bigint', 'YES', '', None, '')\n",
      "('channel_id', b'bigint', 'YES', '', None, '')\n",
      "('channel_name', b'varchar(100)', 'YES', '', None, '')\n",
      "('date', b'varchar(100)', 'YES', '', None, '')\n",
      "('text', b'text', 'YES', '', None, '')\n"
     ]
    }
   ],
   "source": [
    "show_table_query = \"DESCRIBE telegram_news\"\n",
    "try:\n",
    "    with connect(\n",
    "        host=conf.host,\n",
    "        user=conf.user,\n",
    "        password=conf.password,\n",
    "        database=conf.database\n",
    "    ) as connection:\n",
    "        with connection.cursor() as cursor:\n",
    "            cursor.execute(show_table_query)\n",
    "            result = cursor.fetchall()\n",
    "            for row in result:\n",
    "                print(row)\n",
    "except Error as e:\n",
    "    print(e)"
   ]
  },
  {
   "cell_type": "code",
   "execution_count": 25,
   "metadata": {},
   "outputs": [
    {
     "data": {
      "text/html": [
       "<div>\n",
       "<style scoped>\n",
       "    .dataframe tbody tr th:only-of-type {\n",
       "        vertical-align: middle;\n",
       "    }\n",
       "\n",
       "    .dataframe tbody tr th {\n",
       "        vertical-align: top;\n",
       "    }\n",
       "\n",
       "    .dataframe thead th {\n",
       "        text-align: right;\n",
       "    }\n",
       "</style>\n",
       "<table border=\"1\" class=\"dataframe\">\n",
       "  <thead>\n",
       "    <tr style=\"text-align: right;\">\n",
       "      <th></th>\n",
       "      <th>id</th>\n",
       "      <th>channel_id</th>\n",
       "      <th>channel_name</th>\n",
       "      <th>date</th>\n",
       "      <th>text</th>\n",
       "    </tr>\n",
       "  </thead>\n",
       "  <tbody>\n",
       "    <tr>\n",
       "      <th>0</th>\n",
       "      <td>39132</td>\n",
       "      <td>1003921752</td>\n",
       "      <td>bbcrussian</td>\n",
       "      <td>2022-12-19 10:46:30+00:00</td>\n",
       "      <td>Военный корабль Королевских военно-морских сил...</td>\n",
       "    </tr>\n",
       "    <tr>\n",
       "      <th>1</th>\n",
       "      <td>39131</td>\n",
       "      <td>1003921752</td>\n",
       "      <td>bbcrussian</td>\n",
       "      <td>2022-12-19 10:25:37+00:00</td>\n",
       "      <td></td>\n",
       "    </tr>\n",
       "    <tr>\n",
       "      <th>2</th>\n",
       "      <td>39130</td>\n",
       "      <td>1003921752</td>\n",
       "      <td>bbcrussian</td>\n",
       "      <td>2022-12-19 10:25:37+00:00</td>\n",
       "      <td></td>\n",
       "    </tr>\n",
       "    <tr>\n",
       "      <th>3</th>\n",
       "      <td>39129</td>\n",
       "      <td>1003921752</td>\n",
       "      <td>bbcrussian</td>\n",
       "      <td>2022-12-19 10:25:36+00:00</td>\n",
       "      <td></td>\n",
       "    </tr>\n",
       "    <tr>\n",
       "      <th>4</th>\n",
       "      <td>39128</td>\n",
       "      <td>1003921752</td>\n",
       "      <td>bbcrussian</td>\n",
       "      <td>2022-12-19 10:25:36+00:00</td>\n",
       "      <td></td>\n",
       "    </tr>\n",
       "  </tbody>\n",
       "</table>\n",
       "</div>"
      ],
      "text/plain": [
       "      id  channel_id channel_name                      date  \\\n",
       "0  39132  1003921752   bbcrussian 2022-12-19 10:46:30+00:00   \n",
       "1  39131  1003921752   bbcrussian 2022-12-19 10:25:37+00:00   \n",
       "2  39130  1003921752   bbcrussian 2022-12-19 10:25:37+00:00   \n",
       "3  39129  1003921752   bbcrussian 2022-12-19 10:25:36+00:00   \n",
       "4  39128  1003921752   bbcrussian 2022-12-19 10:25:36+00:00   \n",
       "\n",
       "                                                text  \n",
       "0  Военный корабль Королевских военно-морских сил...  \n",
       "1                                                     \n",
       "2                                                     \n",
       "3                                                     \n",
       "4                                                     "
      ]
     },
     "execution_count": 25,
     "metadata": {},
     "output_type": "execute_result"
    }
   ],
   "source": [
    "df = pd.read_json('../output/bbcrussian.json')\n",
    "df.head()"
   ]
  },
  {
   "cell_type": "code",
   "execution_count": 60,
   "metadata": {},
   "outputs": [],
   "source": [
    "try:\n",
    "    connection = sqlalchemy.create_engine(f'mysql+mysqlconnector://{conf.user}:{conf.password}@{conf.host}/{conf.database}')\n",
    "    df.to_sql(con=connection, name='telegram_news', if_exists='append', index=False)\n",
    "except Error as e:\n",
    "    print(e)"
   ]
  },
  {
   "cell_type": "code",
   "execution_count": 35,
   "metadata": {},
   "outputs": [],
   "source": [
    "query = \"SELECT * FROM telegram_news\"\n",
    "try:\n",
    "    # with connect(\n",
    "    #     host=conf.host,\n",
    "    #     user=conf.user,\n",
    "    #     password=conf.password,\n",
    "    #     database=conf.database\n",
    "    # ) as connection:\n",
    "    connection = sqlalchemy.create_engine(f'mysql+mysqlconnector://{conf.user}:{conf.password}@{conf.host}/{conf.database}')\n",
    "    query_df = pd.read_sql(\n",
    "        query, \n",
    "        connection,\n",
    "        # chunksize=1000\n",
    "    )\n",
    "    # for chunk in query_df:\n",
    "        # display(chunk)\n",
    "except Error as e:\n",
    "    print(e)"
   ]
  },
  {
   "cell_type": "code",
   "execution_count": 36,
   "metadata": {},
   "outputs": [
    {
     "data": {
      "text/html": [
       "<div>\n",
       "<style scoped>\n",
       "    .dataframe tbody tr th:only-of-type {\n",
       "        vertical-align: middle;\n",
       "    }\n",
       "\n",
       "    .dataframe tbody tr th {\n",
       "        vertical-align: top;\n",
       "    }\n",
       "\n",
       "    .dataframe thead th {\n",
       "        text-align: right;\n",
       "    }\n",
       "</style>\n",
       "<table border=\"1\" class=\"dataframe\">\n",
       "  <thead>\n",
       "    <tr style=\"text-align: right;\">\n",
       "      <th></th>\n",
       "      <th>id</th>\n",
       "      <th>channel_id</th>\n",
       "      <th>channel_name</th>\n",
       "      <th>date</th>\n",
       "      <th>text</th>\n",
       "    </tr>\n",
       "  </thead>\n",
       "  <tbody>\n",
       "    <tr>\n",
       "      <th>0</th>\n",
       "      <td>39132</td>\n",
       "      <td>1003921752</td>\n",
       "      <td>bbcrussian</td>\n",
       "      <td>2022-12-19 10:46:30</td>\n",
       "      <td>Военный корабль Королевских военно-морских сил...</td>\n",
       "    </tr>\n",
       "    <tr>\n",
       "      <th>1</th>\n",
       "      <td>39131</td>\n",
       "      <td>1003921752</td>\n",
       "      <td>bbcrussian</td>\n",
       "      <td>2022-12-19 10:25:37</td>\n",
       "      <td></td>\n",
       "    </tr>\n",
       "    <tr>\n",
       "      <th>2</th>\n",
       "      <td>39130</td>\n",
       "      <td>1003921752</td>\n",
       "      <td>bbcrussian</td>\n",
       "      <td>2022-12-19 10:25:37</td>\n",
       "      <td></td>\n",
       "    </tr>\n",
       "    <tr>\n",
       "      <th>3</th>\n",
       "      <td>39129</td>\n",
       "      <td>1003921752</td>\n",
       "      <td>bbcrussian</td>\n",
       "      <td>2022-12-19 10:25:36</td>\n",
       "      <td></td>\n",
       "    </tr>\n",
       "    <tr>\n",
       "      <th>4</th>\n",
       "      <td>39128</td>\n",
       "      <td>1003921752</td>\n",
       "      <td>bbcrussian</td>\n",
       "      <td>2022-12-19 10:25:36</td>\n",
       "      <td></td>\n",
       "    </tr>\n",
       "    <tr>\n",
       "      <th>...</th>\n",
       "      <td>...</td>\n",
       "      <td>...</td>\n",
       "      <td>...</td>\n",
       "      <td>...</td>\n",
       "      <td>...</td>\n",
       "    </tr>\n",
       "    <tr>\n",
       "      <th>44181</th>\n",
       "      <td>37775</td>\n",
       "      <td>1376815011</td>\n",
       "      <td>novaya_pishet</td>\n",
       "      <td>2022-03-13 10:21:46</td>\n",
       "      <td>На Манежной площади в Москве начались первые з...</td>\n",
       "    </tr>\n",
       "    <tr>\n",
       "      <th>44182</th>\n",
       "      <td>37774</td>\n",
       "      <td>1376815011</td>\n",
       "      <td>novaya_pishet</td>\n",
       "      <td>2022-03-13 10:12:24</td>\n",
       "      <td>Манежная площадь в Москве оцеплена сотрудникам...</td>\n",
       "    </tr>\n",
       "    <tr>\n",
       "      <th>44183</th>\n",
       "      <td>37773</td>\n",
       "      <td>1376815011</td>\n",
       "      <td>novaya_pishet</td>\n",
       "      <td>2022-03-13 10:05:59</td>\n",
       "      <td>Силовики задерживают участников акций протеста...</td>\n",
       "    </tr>\n",
       "    <tr>\n",
       "      <th>44184</th>\n",
       "      <td>37772</td>\n",
       "      <td>1376815011</td>\n",
       "      <td>novaya_pishet</td>\n",
       "      <td>2022-03-13 09:12:05</td>\n",
       "      <td>Минобороны РФ сообщило, что в ходе «спецоперац...</td>\n",
       "    </tr>\n",
       "    <tr>\n",
       "      <th>44185</th>\n",
       "      <td>37771</td>\n",
       "      <td>1376815011</td>\n",
       "      <td>novaya_pishet</td>\n",
       "      <td>2022-03-13 08:37:06</td>\n",
       "      <td>— Однажды вы долго объясняли, почему в совреме...</td>\n",
       "    </tr>\n",
       "  </tbody>\n",
       "</table>\n",
       "<p>44186 rows × 5 columns</p>\n",
       "</div>"
      ],
      "text/plain": [
       "          id  channel_id   channel_name                 date  \\\n",
       "0      39132  1003921752     bbcrussian  2022-12-19 10:46:30   \n",
       "1      39131  1003921752     bbcrussian  2022-12-19 10:25:37   \n",
       "2      39130  1003921752     bbcrussian  2022-12-19 10:25:37   \n",
       "3      39129  1003921752     bbcrussian  2022-12-19 10:25:36   \n",
       "4      39128  1003921752     bbcrussian  2022-12-19 10:25:36   \n",
       "...      ...         ...            ...                  ...   \n",
       "44181  37775  1376815011  novaya_pishet  2022-03-13 10:21:46   \n",
       "44182  37774  1376815011  novaya_pishet  2022-03-13 10:12:24   \n",
       "44183  37773  1376815011  novaya_pishet  2022-03-13 10:05:59   \n",
       "44184  37772  1376815011  novaya_pishet  2022-03-13 09:12:05   \n",
       "44185  37771  1376815011  novaya_pishet  2022-03-13 08:37:06   \n",
       "\n",
       "                                                    text  \n",
       "0      Военный корабль Королевских военно-морских сил...  \n",
       "1                                                         \n",
       "2                                                         \n",
       "3                                                         \n",
       "4                                                         \n",
       "...                                                  ...  \n",
       "44181  На Манежной площади в Москве начались первые з...  \n",
       "44182  Манежная площадь в Москве оцеплена сотрудникам...  \n",
       "44183  Силовики задерживают участников акций протеста...  \n",
       "44184  Минобороны РФ сообщило, что в ходе «спецоперац...  \n",
       "44185  — Однажды вы долго объясняли, почему в совреме...  \n",
       "\n",
       "[44186 rows x 5 columns]"
      ]
     },
     "execution_count": 36,
     "metadata": {},
     "output_type": "execute_result"
    }
   ],
   "source": [
    "query_df"
   ]
  }
 ],
 "metadata": {
  "kernelspec": {
   "display_name": ".venv",
   "language": "python",
   "name": "python3"
  },
  "language_info": {
   "codemirror_mode": {
    "name": "ipython",
    "version": 3
   },
   "file_extension": ".py",
   "mimetype": "text/x-python",
   "name": "python",
   "nbconvert_exporter": "python",
   "pygments_lexer": "ipython3",
   "version": "3.10.6"
  },
  "orig_nbformat": 4,
  "vscode": {
   "interpreter": {
    "hash": "9c6cae6676c2f03d9e507b6baefa1dbed12dc7505898e6d7184cb6c1d5667d41"
   }
  }
 },
 "nbformat": 4,
 "nbformat_minor": 2
}
